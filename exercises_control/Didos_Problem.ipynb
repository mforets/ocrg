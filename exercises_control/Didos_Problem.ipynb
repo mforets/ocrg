{
 "cells": [
  {
   "cell_type": "code",
   "execution_count": 61,
   "metadata": {
    "collapsed": true
   },
   "outputs": [],
   "source": [
    "%display typeset"
   ]
  },
  {
   "cell_type": "markdown",
   "metadata": {},
   "source": [
    "#### Exercise\n",
    "\n",
    "Show that the optimal curves for Dido's problem are circular arcs.\n",
    "\n",
    "[Ref: Liberzon Ex. 2.10](http://liberzon.csl.illinois.edu/publications.html)."
   ]
  },
  {
   "cell_type": "markdown",
   "metadata": {},
   "source": [
    "Consider:\n",
    "\n",
    "- The **functional**:\n",
    "$$\n",
    "J(y) = -\\int_a^b y(x) dx,\n",
    "$$\n",
    "for any $y \\in \\mathcal{C}^1([a,b]; \\mathbb{R})$. \n",
    "- The **integral constraint**: \n",
    "$$\n",
    "C_0 = \\int_a^b \\sqrt{1+y'^2} dx.\n",
    "$$"
   ]
  },
  {
   "cell_type": "markdown",
   "metadata": {},
   "source": [
    "We formulate the following calculus of variations problem:\n",
    "$$\n",
    "\\min J(y) \\qquad \\text{subject to} \\qquad C_0 = \\int_a^b \\sqrt{1+y'^2}dx.\n",
    "$$"
   ]
  },
  {
   "cell_type": "markdown",
   "metadata": {},
   "source": [
    "The Euler-Lagrange equation with integral constraints is:\n",
    "$$\n",
    "(\\lambda_0 L+ \\lambda^* M)_y = \\dfrac{d}{dx} (\\lambda_0L + \\lambda^* M)_{y'}.\n",
    "$$"
   ]
  },
  {
   "cell_type": "markdown",
   "metadata": {},
   "source": [
    "In our case, on the left-hand side we have:\n",
    "$$\n",
    "\\begin{align}\n",
    "(\\lambda_0 L+ \\lambda^* M)_y &= \\left(-\\lambda_0 y(x) + \\lambda^* \\sqrt{1 + y'^2(x)}\\right)_y\\\\\n",
    "&= -\\lambda_0.\n",
    "\\end{align}\n",
    "$$\n"
   ]
  },
  {
   "cell_type": "markdown",
   "metadata": {},
   "source": [
    "On the right-hand side, \n",
    "$$\n",
    "\\begin{align}\n",
    "\\dfrac{d}{dx} (\\lambda_0L + \\lambda^* M)_{y'} &= \\lambda^* \\dfrac{d}{dx} (\\sqrt{1+y'^2})_{y'} \\\\\n",
    "& = \\lambda^* \\dfrac{d}{dx} \\dfrac{y'}{\\sqrt{y'^2+1}}.\n",
    "\\end{align}\n",
    "$$                                          "
   ]
  },
  {
   "cell_type": "code",
   "execution_count": 63,
   "metadata": {
    "collapsed": false
   },
   "outputs": [
    {
     "data": {
      "text/html": [
       "<html><script type=\"math/tex; mode=display\">\\newcommand{\\Bold}[1]{\\mathbf{#1}}\\frac{x}{\\sqrt{x^{2} + 1}}</script></html>"
      ],
      "text/plain": [
       "x/sqrt(x^2 + 1)"
      ]
     },
     "execution_count": 63,
     "metadata": {},
     "output_type": "execute_result"
    }
   ],
   "source": [
    "# (where we applied the chain rule)\n",
    "(sqrt(1+x^2)).derivative(x)"
   ]
  },
  {
   "cell_type": "markdown",
   "metadata": {},
   "source": [
    "Hence, the optimal value should satisfy:\n",
    "$$\n",
    "-\\lambda_0 = \\lambda^* \\dfrac{d}{dx} \\dfrac{y'}{\\sqrt{y'^2 + 1}}\n",
    "$$\n",
    "Since $\\lambda_0$ and $\\lambda^*$ are *constants*, this implies that:\n",
    "$$\n",
    "\\dfrac{y'}{\\sqrt{y'^2 + 1}} = c_0 + c_1 x := c(x)\n",
    "$$\n",
    "for some constants $c_0, c_1$. Squaring both sides and rearranging,\n",
    "$$\n",
    "y'(x) = \\frac{c(x)}{\\sqrt{1-c(x)^2}}.\n",
    "$$\n",
    "Integrating on both sides,\n",
    "$$\n",
    "\\begin{align}\n",
    "y(x)-y(a) = \\int_a^b dy &= \\int_a^x \\dfrac{c(\\xi)}{\\sqrt{1-c(\\xi)^2}}d\\xi \\\\ \n",
    "&= \\int_a^x - \\dfrac{d}{d\\xi} \\sqrt{1-c(\\xi)^2}d\\xi \\\\\n",
    "&= - \\sqrt{1-c(x)^2} + \\sqrt{1-c(a)^2}. \\\\\n",
    "\\end{align}\n",
    "$$"
   ]
  },
  {
   "cell_type": "markdown",
   "metadata": {},
   "source": [
    "Let us use the boundary conditions: $y(a) = y(b) = 0$. This implies $c(b) = \\pm c(a)$. Two cases:\n",
    "\n",
    "- $c(b) = c(a)$ implies $c_1 b = c_1 a$. If $(b-a) \\neq 0$, this implies that $c_1 = 0$. In this case, $y(x) = \\sqrt{1-c_0^2} + \\sqrt{1-c_0^2} = 0$, hence it is trivially zero for all $x$. This case is not interesting.\n",
    "- $c(b) = -c(a)$ implies $c_0 + c_1 b = -c_0 - c_1 a$, hence $2c_0 = -c_1 (b+a)$.\n",
    "\n",
    "$c_1 b = -c_1 a$. If $(b-a) \\neq 0$, this implies that $c_1 = 0$. In this case, $y(x) = \\sqrt{1-c_0^2} + \\sqrt{1-c_0^2} = 0$, hence it is trivially zero for all $x$. This case is not interesting.\n",
    "\n",
    "\n",
    "\n",
    "Moreover let $\\alpha := \\sqrt{1-c(a)^2}$ and \n",
    "\n",
    "Hence,\n",
    "$$\n",
    "(y(x)-\\alpha)^2 + (c_0 + x c_1)^2 = 1.\n",
    "$$"
   ]
  },
  {
   "cell_type": "markdown",
   "metadata": {},
   "source": [
    "Moreover the boundary conditions are: $y(a) = y(b) = 0$."
   ]
  },
  {
   "cell_type": "markdown",
   "metadata": {},
   "source": [
    "Notice that: \n",
    "$$\n",
    "\\begin{align}\n",
    "y(x)-y(a) &= \\int_a^x -\\dfrac{d}{d\\xi}\\sqrt{1-(c_0+c_1 \\xi)^2}d\\xi \\\\  &= -\\sqrt{1-(c_0+c_1 x)^2} + \\sqrt{1-(c_0+c_1 a)^2}.\n",
    "\\end{align}\n",
    "$$"
   ]
  },
  {
   "cell_type": "markdown",
   "metadata": {},
   "source": [
    "The primitive on the right is?"
   ]
  },
  {
   "cell_type": "code",
   "execution_count": 58,
   "metadata": {
    "collapsed": false
   },
   "outputs": [
    {
     "data": {
      "text/html": [
       "<html><script type=\"math/tex; mode=display\">\\newcommand{\\Bold}[1]{\\mathbf{#1}}\\left(c_{0}, c_{1}\\right)</script></html>"
      ],
      "text/plain": [
       "(c0, c1)"
      ]
     },
     "execution_count": 58,
     "metadata": {},
     "output_type": "execute_result"
    }
   ],
   "source": [
    "var('c0, c1')"
   ]
  },
  {
   "cell_type": "code",
   "execution_count": 59,
   "metadata": {
    "collapsed": false
   },
   "outputs": [
    {
     "data": {
      "text/html": [
       "<html><script type=\"math/tex; mode=display\">\\newcommand{\\Bold}[1]{\\mathbf{#1}}x \\ {\\mapsto}\\ \\frac{c_{1} x + c_{0}}{\\sqrt{-{\\left(c_{1} x + c_{0}\\right)}^{2} + 1}}</script></html>"
      ],
      "text/plain": [
       "x |--> (c1*x + c0)/sqrt(-(c1*x + c0)^2 + 1)"
      ]
     },
     "execution_count": 59,
     "metadata": {},
     "output_type": "execute_result"
    }
   ],
   "source": [
    "f(x) = (c0+c1*x)/sqrt(1-(c0+c1*x)^2); f"
   ]
  },
  {
   "cell_type": "code",
   "execution_count": 60,
   "metadata": {
    "collapsed": false
   },
   "outputs": [
    {
     "data": {
      "text/html": [
       "<html><script type=\"math/tex; mode=display\">\\newcommand{\\Bold}[1]{\\mathbf{#1}}x \\ {\\mapsto}\\ -\\frac{\\sqrt{-{\\left(c_{1} x + c_{0}\\right)}^{2} + 1}}{c_{1}}</script></html>"
      ],
      "text/plain": [
       "x |--> -sqrt(-(c1*x + c0)^2 + 1)/c1"
      ]
     },
     "execution_count": 60,
     "metadata": {},
     "output_type": "execute_result"
    }
   ],
   "source": [
    "f.integrate(x)"
   ]
  },
  {
   "cell_type": "code",
   "execution_count": 42,
   "metadata": {
    "collapsed": false
   },
   "outputs": [],
   "source": [
    "forget()\n",
    "assume(c1>0); assume(c0>0); assume(b-a>0)"
   ]
  },
  {
   "cell_type": "code",
   "execution_count": 43,
   "metadata": {
    "collapsed": false
   },
   "outputs": [
    {
     "data": {
      "text/html": [
       "<html><script type=\"math/tex; mode=display\">\\newcommand{\\Bold}[1]{\\mathbf{#1}}\\left[c_{1} > 0, c_{0} > 0, -a + b > 0\\right]</script></html>"
      ],
      "text/plain": [
       "[c1 > 0, c0 > 0, -a + b > 0]"
      ]
     },
     "execution_count": 43,
     "metadata": {},
     "output_type": "execute_result"
    }
   ],
   "source": [
    "assumptions()"
   ]
  },
  {
   "cell_type": "code",
   "execution_count": 57,
   "metadata": {
    "collapsed": false
   },
   "outputs": [
    {
     "data": {
      "text/html": [
       "<html><script type=\"math/tex; mode=display\">\\newcommand{\\Bold}[1]{\\mathbf{#1}}x \\ {\\mapsto}\\ -\\frac{\\sqrt{-{\\left(c_{1} x + c_{0}\\right)}^{2} + 1}}{c_{1}}</script></html>"
      ],
      "text/plain": [
       "x |--> -sqrt(-(c1*x + c0)^2 + 1)/c1"
      ]
     },
     "execution_count": 57,
     "metadata": {},
     "output_type": "execute_result"
    }
   ],
   "source": [
    "var('a b')\n",
    "y = f.integrate(x); y"
   ]
  },
  {
   "cell_type": "code",
   "execution_count": 55,
   "metadata": {
    "collapsed": false
   },
   "outputs": [
    {
     "data": {
      "text/html": [
       "<html><script type=\"math/tex; mode=display\">\\newcommand{\\Bold}[1]{\\mathbf{#1}}\\frac{\\sqrt{-a^{2} c_{1}^{2} - 2 \\, a c_{0} c_{1} - c_{0}^{2} + 1} - \\sqrt{-b^{2} c_{1}^{2} - 2 \\, b c_{0} c_{1} - c_{0}^{2} + 1}}{c_{1}}</script></html>"
      ],
      "text/plain": [
       "(sqrt(-a^2*c1^2 - 2*a*c0*c1 - c0^2 + 1) - sqrt(-b^2*c1^2 - 2*b*c0*c1 - c0^2 + 1))/c1"
      ]
     },
     "execution_count": 55,
     "metadata": {},
     "output_type": "execute_result"
    }
   ],
   "source": [
    "y"
   ]
  },
  {
   "cell_type": "code",
   "execution_count": 64,
   "metadata": {
    "collapsed": true
   },
   "outputs": [],
   "source": [
    "from scipy.optimize import minimize, rosen, rosen_der"
   ]
  },
  {
   "cell_type": "code",
   "execution_count": 65,
   "metadata": {
    "collapsed": true
   },
   "outputs": [],
   "source": [
    "x0 = [1.3, 0.7, 0.8, 1.9, 1.2]"
   ]
  },
  {
   "cell_type": "code",
   "execution_count": 66,
   "metadata": {
    "collapsed": true
   },
   "outputs": [],
   "source": [
    "res = minimize(rosen, x0, method='Nelder-Mead')"
   ]
  },
  {
   "cell_type": "code",
   "execution_count": 67,
   "metadata": {
    "collapsed": false
   },
   "outputs": [
    {
     "data": {
      "text/html": [
       "<html><script type=\"math/tex; mode=display\">\\newcommand{\\Bold}[1]{\\mathbf{#1}}\\verb|[|\\phantom{\\verb!x!}\\verb|0.99910115|\\phantom{\\verb!xx!}\\verb|0.99820923|\\phantom{\\verb!xx!}\\verb|0.99646346|\\phantom{\\verb!xx!}\\verb|0.99297555|\\phantom{\\verb!xx!}\\verb|0.98600385]|</script></html>"
      ],
      "text/plain": [
       "array([ 0.99910115,  0.99820923,  0.99646346,  0.99297555,  0.98600385])"
      ]
     },
     "execution_count": 67,
     "metadata": {},
     "output_type": "execute_result"
    }
   ],
   "source": [
    "res.x"
   ]
  },
  {
   "cell_type": "code",
   "execution_count": 68,
   "metadata": {
    "collapsed": true
   },
   "outputs": [],
   "source": [
    "minimize?"
   ]
  }
 ],
 "metadata": {
  "kernelspec": {
   "display_name": "SageMath 7.5.1",
   "language": "",
   "name": "sagemath"
  },
  "language_info": {
   "codemirror_mode": {
    "name": "ipython",
    "version": 2
   },
   "file_extension": ".py",
   "mimetype": "text/x-python",
   "name": "python",
   "nbconvert_exporter": "python",
   "pygments_lexer": "ipython2",
   "version": "2.7.13"
  }
 },
 "nbformat": 4,
 "nbformat_minor": 0
}
